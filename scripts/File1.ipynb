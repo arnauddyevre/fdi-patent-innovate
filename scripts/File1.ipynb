{
 "cells": [
  {
   "cell_type": "code",
   "execution_count": 1,
   "metadata": {
    "collapsed": false
   },
   "outputs": [],
   "source": [
    "import pandas as pd\n",
    "import numpy as np"
   ]
  },
  {
   "cell_type": "code",
   "execution_count": 36,
   "metadata": {
    "collapsed": false,
    "scrolled": false
   },
   "outputs": [],
   "source": [
    "df = pd.read_csv('/Users/yorkc/Google Drive/orig/Patents by region and coordinates/file1.csv', encoding = \"ISO-8859-1\")"
   ]
  },
  {
   "cell_type": "code",
   "execution_count": 39,
   "metadata": {
    "collapsed": false
   },
   "outputs": [],
   "source": [
    "aggdfmean = df.groupby(df['geoid_r']).agg({ 'GDPpc_rIp' : np.mean,\n",
    "                                            'educ_rIp' : np.mean,\n",
    "                                            'pop_rIp' : np.mean,\n",
    "                                            'popd_rIp' : np.mean,\n",
    "                                            'allpat' : np.mean })"
   ]
  },
  {
   "cell_type": "code",
   "execution_count": 14,
   "metadata": {
    "collapsed": false
   },
   "outputs": [],
   "source": [
    "aggdf2005 = df[ df['appyear'] == 2005].set_index('geoid_r')[['GDPpc_rIp','educ_rIp','pop_rIp','popd_rIp','allpat']]"
   ]
  },
  {
   "cell_type": "code",
   "execution_count": 40,
   "metadata": {
    "collapsed": false
   },
   "outputs": [],
   "source": [
    "aggdfmean.to_csv('../data/regions.tsv', sep='\\t', encoding='utf-8', float_format='%.2f')"
   ]
  }
 ],
 "metadata": {
  "kernelspec": {
   "display_name": "Python 3",
   "language": "python",
   "name": "python3"
  },
  "language_info": {
   "codemirror_mode": {
    "name": "ipython",
    "version": 3
   },
   "file_extension": ".py",
   "mimetype": "text/x-python",
   "name": "python",
   "nbconvert_exporter": "python",
   "pygments_lexer": "ipython3",
   "version": "3.5.2"
  }
 },
 "nbformat": 4,
 "nbformat_minor": 0
}
